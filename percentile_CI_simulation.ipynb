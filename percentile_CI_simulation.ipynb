{
 "cells": [
  {
   "cell_type": "markdown",
   "metadata": {
    "toc": true
   },
   "source": [
    "<h1>Table of Contents<span class=\"tocSkip\"></span></h1>\n",
    "<div class=\"toc\"><ul class=\"toc-item\"><li><span><a href=\"#Simulate-experiment-data\" data-toc-modified-id=\"Simulate-experiment-data-1\"><span class=\"toc-item-num\">1&nbsp;&nbsp;</span>Simulate experiment data</a></span></li><li><span><a href=\"#Binomial-Distribution\" data-toc-modified-id=\"Binomial-Distribution-2\"><span class=\"toc-item-num\">2&nbsp;&nbsp;</span>Binomial Distribution</a></span></li><li><span><a href=\"#Bootstrapping\" data-toc-modified-id=\"Bootstrapping-3\"><span class=\"toc-item-num\">3&nbsp;&nbsp;</span>Bootstrapping</a></span></li></ul></div>"
   ]
  },
  {
   "cell_type": "markdown",
   "metadata": {},
   "source": [
    "Purpose: hypothesis testing for percentile comparison"
   ]
  },
  {
   "cell_type": "markdown",
   "metadata": {},
   "source": [
    "# Simulate experiment data\n",
    "\n",
    "Suppose our data follows parento distribution. We want to compare the 75 percentile for control and treatment group.\n",
    "<img src=\"https://upload.wikimedia.org/wikipedia/commons/thumb/1/11/Probability_density_function_of_Pareto_distribution.svg/650px-Probability_density_function_of_Pareto_distribution.svg.png\"/>\n",
    "<center>PDF</center>\n",
    "\n",
    "<img src='https://upload.wikimedia.org/wikipedia/commons/thumb/2/2a/Cumulative_distribution_function_of_Pareto_distribution.svg/650px-Cumulative_distribution_function_of_Pareto_distribution.svg.png' />\n",
    "<center>CDF</center>\n",
    "\n",
    "source: https://en.wikipedia.org/wiki/Pareto_distribution"
   ]
  },
  {
   "cell_type": "code",
   "execution_count": 25,
   "metadata": {},
   "outputs": [
    {
     "name": "stdout",
     "output_type": "stream",
     "text": [
      "Populating the interactive namespace from numpy and matplotlib\n"
     ]
    }
   ],
   "source": [
    "%pylab inline\n",
    "import seaborn as sns\n",
    "from scipy.stats import genpareto"
   ]
  },
  {
   "cell_type": "code",
   "execution_count": 75,
   "metadata": {},
   "outputs": [
    {
     "data": {
      "text/plain": [
       "Text(0.5,1,'Distribution Plot')"
      ]
     },
     "execution_count": 75,
     "metadata": {},
     "output_type": "execute_result"
    },
    {
     "data": {
      "image/png": "[encoded data removed]",
      "text/plain": [
       "<matplotlib.figure.Figure at 0x1169b3710>"
      ]
     },
     "metadata": {},
     "output_type": "display_data"
    }
   ],
   "source": [
    "control_n = 1000\n",
    "treatment_n = 500\n",
    "control = genpareto.rvs(c,loc=0.1, scale=5, size=control_n)\n",
    "treatment = genpareto.rvs(c,loc=0.8, scale=5, size=treatment_n)\n",
    "control_75p = np.percentile(control,75)\n",
    "treatment_75p = np.percentile(treatment,75)\n",
    "\n",
    "figure(figsize=(12,5)) \n",
    "sns.distplot(control, label='Control 75% Percentile, {p75:.3g}'.format(p75=control_75p))\n",
    "sns.distplot(treatment, label='Treatment 75% Percentile, {p75:.3g}'.format(p75=treatment_75p))\n",
    "legend()\n",
    "title(\"Distribution Plot\")"
   ]
  },
  {
   "cell_type": "code",
   "execution_count": 74,
   "metadata": {},
   "outputs": [
    {
     "name": "stdout",
     "output_type": "stream",
     "text": [
      "Control variance 37.938945688405994\n",
      "Treatment variance 30.906261284207346\n"
     ]
    }
   ],
   "source": [
    "print(\"Control variance\", np.var(control))\n",
    "print(\"Treatment variance\", np.var(treatment))"
   ]
  },
  {
   "cell_type": "markdown",
   "metadata": {},
   "source": [
    "As you can see, we have more observations in control compared to treatment. Control has a larger variance than teatment but treatment seems to improve 75p. We need to know whether this improvement is stat sig."
   ]
  },
  {
   "cell_type": "markdown",
   "metadata": {},
   "source": [
    "# Binomial Distribution"
   ]
  },
  {
   "cell_type": "markdown",
   "metadata": {},
   "source": [
    "Assuming the CDF of $Y$ is stricting increasing and a density $f_Y$, the $q$-quantile is the value $v$ such that $F_y(v)=q$. Since we know that $Pr(Y_i<=v)=q$ and the observations $Y_i$ are i.i.d, then $$|Y_i <= v| \\sim Binomial (n,q)$$\n",
    "\n",
    "<a href=\"https://ibb.co/wBZDt4G\"><img src=\"https://i.ibb.co/XjfmHt0/image1.png\" alt=\"image1\" border=\"0\"></a><br /><br />\n",
    "\n",
    "See example: https://stats.stackexchange.com/questions/99829/how-to-obtain-a-confidence-interval-for-a-percentile"
   ]
  },
  {
   "cell_type": "code",
   "execution_count": 230,
   "metadata": {},
   "outputs": [],
   "source": [
    "# Estimate u and l\n",
    "import scipy.stats as st\n",
    "z_score = st.norm.ppf(1-0.025)\n",
    "binomial_mean_control = 0.75*control_n\n",
    "binomial_sd_control = sqrt(0.75*(1-0.75)*control_n)\n",
    "\n",
    "binomial_mean_treatment = 0.75*treatment_n\n",
    "binomial_sd_treatment = sqrt(0.75*(1-0.75)*treatment_n)\n",
    "\n",
    "control_l = binomial_mean_control - z_score*binomial_sd_control\n",
    "control_u = binomial_mean_control + z_score*binomial_sd_control\n",
    "\n",
    "treatment_l = binomial_mean_treatment - z_score*binomial_sd_treatment\n",
    "treatment_u = binomial_mean_treatment + z_score*binomial_sd_treatment"
   ]
  },
  {
   "cell_type": "code",
   "execution_count": 251,
   "metadata": {},
   "outputs": [
    {
     "name": "stdout",
     "output_type": "stream",
     "text": [
      " FOR CONTROL:\n",
      "    In other words, the probability that at least 225 of the largest Yi's are larger than 75 percentile and at least 723 of the smallest Yi's are less than or equal to 75 percentile, is 95% i.e. 95% confidence interval bounds for 75p could be estimated!\n"
     ]
    }
   ],
   "source": [
    "print(\"\"\" FOR CONTROL:\n",
    "    In other words, the probability that at least {a} of the largest Yi's are larger than 75 percentile and at least {l} of the smallest Yi's are less than or equal to 75 percentile, is 95% i.e. 95% confidence interval bounds for 75p could be estimated!\"\"\" \n",
    "      .format(a=control_n-int(control_u)+1, l=int(control_l))\n",
    "     )"
   ]
  },
  {
   "cell_type": "code",
   "execution_count": 256,
   "metadata": {},
   "outputs": [
    {
     "name": "stdout",
     "output_type": "stream",
     "text": [
      "95% CI for control 75p 7.056666954218915 8.397994410778338\n",
      "95% CI for treatment 75p 7.802406105812344 9.390675187229364\n"
     ]
    }
   ],
   "source": [
    "control_upper = sorted(control)[int((control_u))]\n",
    "control_lower = sorted(control)[int((control_l))]\n",
    "treatment_lower = sorted(treatment)[int((treatment_l))]\n",
    "treatment_upper = sorted(treatment)[int((treatment_u))]\n",
    "\n",
    "print('95% CI for control 75p', control_lower, control_upper)\n",
    "print('95% CI for treatment 75p',treatment_lower, treatment_upper)"
   ]
  },
  {
   "cell_type": "markdown",
   "metadata": {},
   "source": [
    "Treatment group does have a bigger variance, but its lower bound of 95% CI is still larger than that of control group. We can thus reject the null hypothesis that there's no difference between control 75p and treatment 75p."
   ]
  },
  {
   "cell_type": "markdown",
   "metadata": {},
   "source": [
    "# Bootstrapping\n",
    "\n",
    "For bootstrapping, see this doc from <a href=\"https://ocw.mit.edu/courses/mathematics/18-05-introduction-to-probability-and-statistics-spring-2014/readings/MIT18_05S14_Reading24.pdf\">MIT Courseware</a>. The below implementation follows section 7 old faithful example."
   ]
  },
  {
   "cell_type": "code",
   "execution_count": 265,
   "metadata": {},
   "outputs": [],
   "source": [
    "from random import choices\n",
    "\n",
    "def bootstrap(x,pop,sample_size, num_iter, alpha=0.95):\n",
    "    diff_sample = [x-np.percentile(choices(pop, k=sample_size),75) for i in range(num_iter)]\n",
    "    \n",
    "    p = ((1.0-alpha)/2.0) * 100\n",
    "    print('Lower', p)\n",
    "    lower = numpy.percentile(diff_sample, p)\n",
    "    p = (alpha+((1.0-alpha)/2.0)) * 100\n",
    "    print('Upper', p)\n",
    "    upper = numpy.percentile(diff_sample, p)\n",
    "    print('%.1f confidence interval %.1f and %.1f' % (alpha*100, x+lower, x+upper))"
   ]
  },
  {
   "cell_type": "code",
   "execution_count": 266,
   "metadata": {},
   "outputs": [
    {
     "name": "stdout",
     "output_type": "stream",
     "text": [
      "Lower 2.500000000000002\n",
      "Upper 97.5\n",
      "95.0 confidence interval 7.1 and 8.4\n"
     ]
    }
   ],
   "source": [
    "# Control\n",
    "bootstrap(control_75p, control, len(control), 10000)"
   ]
  },
  {
   "cell_type": "code",
   "execution_count": 267,
   "metadata": {},
   "outputs": [
    {
     "name": "stdout",
     "output_type": "stream",
     "text": [
      "Lower 2.500000000000002\n",
      "Upper 97.5\n",
      "95.0 confidence interval 7.7 and 9.3\n"
     ]
    }
   ],
   "source": [
    "# Treatment\n",
    "bootstrap(treatment_75p, treatment, len(treatment), 10000)"
   ]
  }
 ],
 "metadata": {
  "kernelspec": {
   "display_name": "Python 3",
   "language": "python",
   "name": "python3"
  },
  "language_info": {
   "codemirror_mode": {
    "name": "ipython",
    "version": 3
   },
   "file_extension": ".py",
   "mimetype": "text/x-python",
   "name": "python",
   "nbconvert_exporter": "python",
   "pygments_lexer": "ipython3",
   "version": "3.6.3"
  },
  "toc": {
   "nav_menu": {},
   "number_sections": true,
   "sideBar": true,
   "skip_h1_title": false,
   "title_cell": "Table of Contents",
   "title_sidebar": "Contents",
   "toc_cell": true,
   "toc_position": {},
   "toc_section_display": true,
   "toc_window_display": true
  }
 },
 "nbformat": 4,
 "nbformat_minor": 2
}
